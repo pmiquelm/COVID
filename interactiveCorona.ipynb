{
 "cells": [
  {
   "cell_type": "markdown",
   "metadata": {},
   "source": [
    "# Analyse COVID-19 data"
   ]
  },
  {
   "cell_type": "code",
   "execution_count": 42,
   "metadata": {},
   "outputs": [],
   "source": [
    "import pandas as pd\n",
    "import numpy as np\n",
    "from bqplot import *\n",
    "import bqplot.pyplot as bqplt\n",
    "from ipywidgets import Layout, Dropdown, Button\n",
    "from ipywidgets import Image as ImageIpy\n",
    "import matplotlib.colors as colors\n",
    "from IPython.display import HTML, display"
   ]
  },
  {
   "cell_type": "code",
   "execution_count": 2,
   "metadata": {},
   "outputs": [],
   "source": [
    "colorListRGB =[ \n",
    "[                   0,                   0,   1.000000000000000],\n",
    "[   1.000000000000000,                   0,                   0],\n",
    "[                   0,   1.000000000000000,                   0],\n",
    "[                   0,                   0,   0.172413793103448],\n",
    "[   1.000000000000000,   0.103448275862069,   0.724137931034483],\n",
    "[   1.000000000000000,   0.827586206896552,                   0],\n",
    "[                   0,   0.344827586206897,                   0],\n",
    "[   0.517241379310345,   0.517241379310345,   1.000000000000000],\n",
    "[   0.620689655172414,   0.310344827586207,   0.275862068965517],\n",
    "[                   0,   1.000000000000000,   0.758620689655172],\n",
    "[                   0,   0.517241379310345,   0.586206896551724],\n",
    "[                   0,                   0,   0.482758620689655],\n",
    "[   0.586206896551724,   0.827586206896552,   0.310344827586207],\n",
    "[   0.965517241379310,   0.620689655172414,   0.862068965517241],\n",
    "[   0.827586206896552,   0.068965517241379,   1.000000000000000],\n",
    "[   0.482758620689655,   0.103448275862069,   0.413793103448276],\n",
    "[   0.965517241379310,   0.068965517241379,   0.379310344827586],\n",
    "[   1.000000000000000,   0.758620689655172,   0.517241379310345],\n",
    "[   0.137931034482759,   0.137931034482759,   0.034482758620690],\n",
    "[   0.551724137931034,   0.655172413793103,   0.482758620689655],\n",
    "[   0.965517241379310,   0.517241379310345,   0.034482758620690],\n",
    "[   0.517241379310345,   0.448275862068966,                   0],\n",
    "[   0.448275862068966,   0.965517241379310,   1.000000000000000],\n",
    "[   0.620689655172414,   0.758620689655172,   1.000000000000000],\n",
    "[   0.448275862068966,   0.379310344827586,   0.482758620689655]\n",
    "]"
   ]
  },
  {
   "cell_type": "code",
   "execution_count": 3,
   "metadata": {},
   "outputs": [],
   "source": [
    "colorListHTML = []\n",
    "for color in colorListRGB:\n",
    "    colorListHTML.append(colors.to_hex(color))"
   ]
  },
  {
   "cell_type": "code",
   "execution_count": 4,
   "metadata": {},
   "outputs": [],
   "source": [
    "def updatePlot(casesOrDeaths, figure, align, minimum, gradient, rollingMean, interpolate, normalizeString, logY):\n",
    "    rawData, endDate = getRawData(casesOrDeaths)\n",
    "    data = manipulateData(rawData, align, minimum, gradient, rollingMean, interpolate, normalizeString)\n",
    "    updateFigure(figure, data, align, logY, endDate, casesOrDeaths)\n",
    "    textNormalizeDictName.value = gNormalizeDictName\n",
    "    updateWidgets()"
   ]
  },
  {
   "cell_type": "code",
   "execution_count": 5,
   "metadata": {},
   "outputs": [],
   "source": [
    "def getRawData(casesOrDeaths):\n",
    "    \n",
    "    global gCasesOrDeaths\n",
    "    global gRawData\n",
    "    global gEndDate\n",
    "\n",
    "    if gCasesOrDeaths != casesOrDeaths:\n",
    "        gCasesOrDeaths = casesOrDeaths\n",
    "        if casesOrDeaths.lower() ==  \"cases\":\n",
    "            dataFile = \"https://raw.githubusercontent.com/CSSEGISandData/COVID-19/master/csse_covid_19_data/csse_covid_19_time_series/time_series_covid19_confirmed_global.csv\"\n",
    "        else:\n",
    "            dataFile = \"https://raw.githubusercontent.com/CSSEGISandData/COVID-19/master/csse_covid_19_data/csse_covid_19_time_series/time_series_covid19_deaths_global.csv\"\n",
    "\n",
    "        # Get data and clean up\n",
    "        rawData = pd.read_csv(dataFile, index_col = 1).T\n",
    "        rawData.drop([\"Lat\", \"Long\",\"Province/State\"], inplace = True)\n",
    "        rawData.drop([\"Diamond Princess\", \"Taiwan*\"], axis = \"columns\", inplace = True)\n",
    "\n",
    "        # rawData.drop([\"Cruise Ship\", \"Saint Lucia\", \"Taiwan*\"], axis = \"columns\", inplace = True)\n",
    "        rawData.rename(columns={\"Iran\": \"Iran, Islamic Rep.\", \"Korea, South\" : \"Korea, Rep.\", \"US\" : \"United States\", \\\n",
    "                            \"Brunei\": \"Brunei Darussalam\", \"Czechia\": \"Czech Republic\", \"Egypt\" : \"Egypt, Arab Rep.\", \\\n",
    "                            \"Russia\" : \"Russian Federation\", \"Slovakia\" : \"Slovak Republic\", \"Congo (Kinshasa)\" : \"Congo, Dem. Rep.\", \\\n",
    "                            \"Guadeloupe\" : \"Mexico\", \"Jersey\" : \"United Kingdom\", \"Martinique\" : \"France\", \\\n",
    "                            \"Reunion\" : \"France\", \"Venezuela\" : \"Venezuela, RB\"}, inplace = True)\n",
    "        rawData = rawData.groupby(rawData.columns, axis=1).sum()\n",
    "        endDate = pd.to_datetime(rawData.index[-1]).strftime(\"%d %B, %Y\")\n",
    "        rawData.reset_index(inplace = True, drop=True)\n",
    "        gRawData = rawData\n",
    "        gEndDate = endDate\n",
    "    return gRawData, gEndDate"
   ]
  },
  {
   "cell_type": "code",
   "execution_count": 6,
   "metadata": {},
   "outputs": [],
   "source": [
    "def updateFigure(figure, data, align, logY, endDate, casesOrDeaths):\n",
    "    global gLogY\n",
    "    figure.marks[0].y = data\n",
    "    figure.marks[0].labels = list(data.index.to_numpy())\n",
    "    if gLogY != logY:\n",
    "        gLogY = logY\n",
    "        if logY == True:\n",
    "            figure.axes[1].scale = LogScale()\n",
    "        else:\n",
    "            figure.axes[1].scale = LinearScale()\n",
    "        figure.marks[0].scales = {'x': figure.axes[0].scale, 'y': figure.axes[1].scale}\n",
    "    figure.title = f\"Current as of {gEndDate}\"\n",
    "    figure.axes[1].label = casesOrDeaths\n",
    "    figure.axes[0].label = f\"Days since {align} {casesOrDeaths.lower()}\""
   ]
  },
  {
   "cell_type": "code",
   "execution_count": 7,
   "metadata": {},
   "outputs": [],
   "source": [
    "def manipulateData(rawData, align, minimum, gradient, rollingMean, interpolate, normalizeString):\n",
    "    \n",
    "    global gAlign\n",
    "    global gMinimum\n",
    "    global gGradient\n",
    "    global gRollingMean\n",
    "    global gInterpolate\n",
    "    global gNormalizeString\n",
    "    global gNormalizeDict\n",
    "    global gNormalizeDictName\n",
    "\n",
    "    gAlign = align\n",
    "    gMinimum = minimum\n",
    "    gGradient = gradient\n",
    "    gRollingMean = rollingMean\n",
    "    gInterpolate = interpolate\n",
    "    \n",
    "    # Align\n",
    "    data = rawData.where(rawData > align)\n",
    "    data = data.apply(lambda countryData: pd.Series(countryData.dropna().values))\n",
    "\n",
    "    # Drop countries without minimum data\n",
    "    data.dropna(axis = 'columns', thresh = minimum + 1, inplace = True)\n",
    "\n",
    "    # Interpolate\n",
    "    if interpolate:\n",
    "        data.where(data.diff() != 0, inplace = True)\n",
    "        data.interpolate(method = \"linear\", limit = 1, limit_direction = \"backward\", inplace = True)\n",
    "        data.fillna(method = \"backfill\", inplace = True)\n",
    "    \n",
    "    \n",
    "    def caca(poo):\n",
    "        if np.isnan(poo):\n",
    "            return np.nan\n",
    "        else:\n",
    "            return 1e-3\n",
    "    \n",
    "    # Take gradients\n",
    "    if gradient == \"New cases/deaths\" or gradient == \"Derivative of new cases/deaths\":\n",
    "        data = data.diff()\n",
    "        \n",
    "        # Rolling mean\n",
    "        if rollingMean:\n",
    "            data = data.rolling(rollingMean).mean()\n",
    "\n",
    "        if gradient == \"Derivative of new cases/deaths\":\n",
    "            data = data.diff()\n",
    "        else:\n",
    "            data.mask(data <=0, other = 1e-3, inplace = True)\n",
    "    \n",
    "    # Normalize\n",
    "    if gNormalizeString!= normalizeString:\n",
    "        gNormalizeString = normalizeString\n",
    "        if normalizeString != '':\n",
    "            try:\n",
    "                gNormalizeDict, gNormalizeDictName = worldBank(normalizeString)\n",
    "            except:\n",
    "                \n",
    "                gNormalizeDictName = \"Invalid World Bank Code\"\n",
    "        else:\n",
    "            gNormalizeDict = {}\n",
    "            gNormalizeDictName = \"\"\n",
    "    \n",
    "    if gNormalizeDict:\n",
    "        data = data.apply(lambda countryData: countryData / gNormalizeDict[countryData.name])\n",
    "\n",
    "    return data.T "
   ]
  },
  {
   "cell_type": "code",
   "execution_count": 8,
   "metadata": {},
   "outputs": [],
   "source": [
    "def worldBank (code, factor = 1):\n",
    "    url  = \"http://api.worldbank.org/v2/en/indicator/\" + code + \"?downloadformat=excel\"\n",
    "    normalizeDict = pd.read_excel(url, sheet_name = 0, header = 0 , skiprows = 3,  \\\n",
    "                                    index_col = 0, usecols = [0] + list(range(4,63)))\n",
    "    normalizeDict = normalizeDict.ffill(axis=1).iloc[:, -1].T * factor\n",
    "    nameList = pd.read_excel(url, sheet_name = 2, usecols = [1]).to_string(header = False, index = False).split(\" \")\n",
    "    normalizeDictName = \" \".join(nameList[1 : min(len(nameList), 4)])\n",
    "    return normalizeDict.to_dict(), normalizeDictName"
   ]
  },
  {
   "cell_type": "code",
   "execution_count": 9,
   "metadata": {},
   "outputs": [],
   "source": [
    "def updateWidgets():\n",
    "    \n",
    "    if gGradient == \"Cumulative\":\n",
    "        sliderRollingMean.disabled = True\n",
    "    else:\n",
    "        sliderRollingMean.disabled = False\n",
    "\n",
    "    if gGradient == \"Derivative of new cases/deaths\":\n",
    "        toggleLogY.value = False\n",
    "        toggleLogY.disabled = True\n",
    "    else:\n",
    "        toggleLogY.disabled = False\n",
    "        \n",
    "    if gCasesOrDeaths == \"Cases\":\n",
    "        sliderAlign.max = 1000\n",
    "    else:\n",
    "        sliderAlign.max = 100"
   ]
  },
  {
   "cell_type": "code",
   "execution_count": 10,
   "metadata": {},
   "outputs": [],
   "source": [
    "gAlign = 10\n",
    "gMinimum = 15\n",
    "gGradient = 'Cumulative'\n",
    "gRollingMean = 0\n",
    "gInterpolate = False\n",
    "gCasesOrDeaths = \"Cases\"\n",
    "gRawData, gEndDate = getRawData(\"Deaths\")\n",
    "gNormalizeString = ''\n",
    "gNormalizeDict = {}\n",
    "gNormalizeDictName = ''\n",
    "gLogY = False"
   ]
  },
  {
   "cell_type": "code",
   "execution_count": 11,
   "metadata": {},
   "outputs": [],
   "source": [
    "toggleCasesOrDeaths = widgets.ToggleButtons(\n",
    "    options=['Deaths', 'Cases'],\n",
    "    value=gCasesOrDeaths, \n",
    "#    layout={'width': 'max-content'}, # If the items' names are long\n",
    "    description='Data:',\n",
    "    disabled=False\n",
    ")"
   ]
  },
  {
   "cell_type": "code",
   "execution_count": 75,
   "metadata": {},
   "outputs": [],
   "source": [
    "sliderAlign = widgets.IntSlider(\n",
    "    value=gAlign,\n",
    "    min=1,\n",
    "    max=100,\n",
    "    step=1,\n",
    "    description='Align:',\n",
    "    disabled=False,\n",
    "    continuous_update=True,\n",
    "    orientation='horizontal',\n",
    "    readout=True,\n",
    "    readout_format='d',\n",
    "    layout = {'width': '50ex'},\n",
    ")"
   ]
  },
  {
   "cell_type": "code",
   "execution_count": 76,
   "metadata": {},
   "outputs": [],
   "source": [
    "sliderMinimum = widgets.IntSlider(\n",
    "    value=gMinimum,\n",
    "    min=1,\n",
    "    max=len(gRawData),\n",
    "    step=1,\n",
    "    description='Minimum:',\n",
    "    disabled=False,\n",
    "    continuous_update=True,\n",
    "    orientation='horizontal',\n",
    "    readout=True,\n",
    "    readout_format='d',\n",
    "    layout = {'width': '50ex'},\n",
    ")"
   ]
  },
  {
   "cell_type": "code",
   "execution_count": 77,
   "metadata": {},
   "outputs": [],
   "source": [
    "toggleGradient = widgets.ToggleButtons(\n",
    "    options=['Cumulative', 'New cases/deaths', 'Derivative of new cases/deaths'],\n",
    "    value=gGradient, \n",
    "#    layout={'width': 'max-content'}, # If the items' names are long\n",
    "    description='Gradient:',\n",
    "    disabled=False\n",
    ")"
   ]
  },
  {
   "cell_type": "code",
   "execution_count": 78,
   "metadata": {},
   "outputs": [],
   "source": [
    "sliderRollingMean = widgets.IntSlider(\n",
    "    value=gRollingMean,\n",
    "    min=1,\n",
    "    max=15,\n",
    "    step=1,\n",
    "    description='Rolling Mean:',\n",
    "    disabled=True,\n",
    "    continuous_update=True,\n",
    "    orientation='horizontal',\n",
    "    readout=True,\n",
    "    readout_format='d',\n",
    "    layout = {'width': '50ex'},\n",
    ")"
   ]
  },
  {
   "cell_type": "code",
   "execution_count": 79,
   "metadata": {},
   "outputs": [],
   "source": [
    "toggleInterpolate = widgets.ToggleButton(\n",
    "    value=gInterpolate,\n",
    "    description='Interpolate',\n",
    "    disabled=False,\n",
    "    button_style='', # 'success', 'info', 'warning', 'danger' or ''\n",
    "    tooltip='Description',\n",
    "#     icon='check' # (FontAwesome names without the `fa-` prefix)\n",
    ")"
   ]
  },
  {
   "cell_type": "code",
   "execution_count": 80,
   "metadata": {},
   "outputs": [],
   "source": [
    "textNormalizeString = widgets.Text(\n",
    "    value='',\n",
    "    placeholder='Type something',\n",
    "    description='World Bank Code:',\n",
    "    disabled=False,\n",
    "#     layout = widgets.Layout(width='auto'),\n",
    ")"
   ]
  },
  {
   "cell_type": "code",
   "execution_count": 81,
   "metadata": {},
   "outputs": [],
   "source": [
    "toggleLogY = widgets.ToggleButton(\n",
    "    value=gLogY,\n",
    "    description='Log Y',\n",
    "    disabled=False,\n",
    "    button_style='', # 'success', 'info', 'warning', 'danger' or ''\n",
    "    tooltip='Description',\n",
    "#     icon='check' # (FontAwesome names without the `fa-` prefix)\n",
    ")"
   ]
  },
  {
   "cell_type": "code",
   "execution_count": 82,
   "metadata": {},
   "outputs": [],
   "source": [
    "textNormalizeDictName = widgets.HTML(\n",
    "    value=gNormalizeDictName,\n",
    "    description= \"Normalize by: \",\n",
    "    layout={'width': 'max-content'}, # If the items' names are long\n",
    ")"
   ]
  },
  {
   "cell_type": "code",
   "execution_count": 83,
   "metadata": {},
   "outputs": [],
   "source": [
    "toggleCasesOrDeaths.observe(lambda change : updatePlot(change.new, fig, gAlign, gMinimum, gGradient, gRollingMean, gInterpolate, gNormalizeString, gLogY), 'value')\n",
    "sliderAlign.observe(lambda change : updatePlot(gCasesOrDeaths, fig, change.new, gMinimum, gGradient, gRollingMean, gInterpolate, gNormalizeString, gLogY), 'value')\n",
    "sliderMinimum.observe(lambda change : updatePlot(gCasesOrDeaths, fig, gAlign, change.new, gGradient, gRollingMean, gInterpolate, gNormalizeString, gLogY), 'value')\n",
    "toggleGradient.observe(lambda change : updatePlot(gCasesOrDeaths, fig, gAlign, gMinimum, change.new, gRollingMean, gInterpolate, gNormalizeString, gLogY), 'value')\n",
    "sliderRollingMean.observe(lambda change : updatePlot(gCasesOrDeaths, fig, gAlign, gMinimum, gGradient, change.new, gInterpolate, gNormalizeString, gLogY), 'value')\n",
    "toggleInterpolate.observe(lambda change : updatePlot(gCasesOrDeaths, fig, gAlign, gMinimum, gGradient, gRollingMean, change.new, gNormalizeString, gLogY), 'value')\n",
    "textNormalizeString.observe(lambda change : updatePlot(gCasesOrDeaths, fig, gAlign, gMinimum, gGradient, gRollingMean, gInterpolate, change.new, gLogY), 'value')\n",
    "toggleLogY.observe(lambda change : updatePlot(gCasesOrDeaths, fig, gAlign, gMinimum, gGradient, gRollingMean, gInterpolate, gNormalizeString, change.new), 'value')"
   ]
  },
  {
   "cell_type": "code",
   "execution_count": 84,
   "metadata": {},
   "outputs": [],
   "source": [
    "xData = gRawData.index.to_numpy()\n",
    "yData = manipulateData(gRawData, gAlign, gMinimum, gGradient, gRollingMean, gInterpolate, gNormalizeString)\n",
    "\n",
    "xScale = LinearScale()\n",
    "yScale = LinearScale()\n",
    "\n",
    "defaultTool = Tooltip(fields=['name'], formats=[''], labels=['Country'])\n",
    "lineChart = Lines(x=xData,\n",
    "                  y=yData, \n",
    "                  scales= {'x': xScale, 'y': yScale}, \n",
    "                  tooltip=defaultTool, \n",
    "                  display_legend=True, \n",
    "                  labels=list(yData.index.to_numpy()),\n",
    "                  marker_str = 'sr', \n",
    "                  colors=colorListHTML,\n",
    "#                   marker= 'circle',\n",
    "#                   marker_size= 15,\n",
    "                  selected_style = {\"stroke-width\" : 5},\n",
    "                  unselected_style = {\"opacity\" : 0.5},\n",
    "#                   interactions = {'hover': 'tooltip', 'click': 'select'},\n",
    "#                   interactions = {'hover': 'select'},\n",
    "                  )\n",
    "\n",
    "XAxis = Axis(scale=xScale, label = f\"Days since {gAlign} {gCasesOrDeaths.lower()}\")\n",
    "YAxis = Axis(scale=yScale, orientation='vertical', tick_format='0.2f', label = gCasesOrDeaths, label_offset = \"5em\")\n",
    "\n",
    "fig = Figure(marks=[lineChart], \n",
    "             axes=[XAxis, YAxis],\n",
    "             animation_duration=500, \n",
    "             legend_location = 'bottom-right', \n",
    "             legend_style = {'stroke': 'none'}, \n",
    "             title = f\"Current as of {gEndDate}\",\n",
    "             fig_margin={\"top\" : 80, \"left\":80, \"right\":80, \"bottom\":80},\n",
    "#              fig_margin={\"top\" : 80, \"left\":0, \"right\":0, \"bottom\":80},\n",
    "            )\n",
    "toolBar = Toolbar(figure = fig)"
   ]
  },
  {
   "cell_type": "code",
   "execution_count": 85,
   "metadata": {},
   "outputs": [
    {
     "data": {
      "text/html": [
       "<style>\n",
       "    .widget-label { min-width: 20ex !important; }\n",
       "</style>"
      ],
      "text/plain": [
       "<IPython.core.display.HTML object>"
      ]
     },
     "metadata": {},
     "output_type": "display_data"
    }
   ],
   "source": [
    "display(HTML('''<style>\n",
    "    .widget-label { min-width: 20ex !important; }\n",
    "</style>'''))"
   ]
  },
  {
   "cell_type": "code",
   "execution_count": 86,
   "metadata": {},
   "outputs": [
    {
     "data": {
      "application/vnd.jupyter.widget-view+json": {
       "model_id": "9363285fd4854ee49bb08ad5c68b149b",
       "version_major": 2,
       "version_minor": 0
      },
      "text/plain": [
       "VBox(children=(HBox(children=(IntSlider(value=10, description='Align:', layout=Layout(width='50ex'), min=1), T…"
      ]
     },
     "metadata": {},
     "output_type": "display_data"
    }
   ],
   "source": [
    "widgets.VBox([\n",
    "    widgets.HBox([sliderAlign, toggleGradient ]), \n",
    "    widgets.HBox([sliderMinimum, sliderRollingMean, toggleInterpolate, toggleLogY]),\n",
    "    toggleCasesOrDeaths,\n",
    "    textNormalizeString,\n",
    "    textNormalizeDictName,\n",
    "    fig, \n",
    "    toolBar\n",
    "])"
   ]
  },
  {
   "cell_type": "markdown",
   "metadata": {},
   "source": [
    "#### To do:\n",
    "- LineStyles\n",
    "- Persistent colors / styles\n",
    "- Make legend fit better\n",
    "- Highlight on hover/click\n",
    "- Improve layout"
   ]
  },
  {
   "cell_type": "code",
   "execution_count": 23,
   "metadata": {},
   "outputs": [],
   "source": [
    "# lineChart.interactions"
   ]
  },
  {
   "cell_type": "code",
   "execution_count": 24,
   "metadata": {},
   "outputs": [],
   "source": [
    "# def clickCallback(line, event):\n",
    "#     print(event)\n",
    "#     print(\"\\n\\n\\n\\n\\n\")\n",
    "#     raise Exception(\"fuck meeeee\")\n",
    "# #     line.curves_subset = [event[\"data\"][\"index\"]]\n",
    "# #     time.sleep(1)\n",
    "# #     line.curves_subset = []\n",
    "# lineChart.on_element_click(clickCallback)"
   ]
  },
  {
   "cell_type": "code",
   "execution_count": 25,
   "metadata": {},
   "outputs": [],
   "source": [
    "# # import time\n",
    "# def hoverCallback(line, event):\n",
    "#     print(event[\"data\"][\"index\"])\n",
    "#     print(\"\\n\\n\\n\\n\\n\")\n",
    "#     lineChart.selected = event[\"data\"][\"index\"]\n",
    "# #     line.curves_subset = [event[\"data\"][\"index\"]]\n",
    "# #     time.sleep(1)\n",
    "# #     line.curves_subset = []\n",
    "\n",
    "# lineChart.on_hover(hoverCallback)"
   ]
  }
 ],
 "metadata": {
  "anaconda-cloud": {},
  "kernelspec": {
   "display_name": "Python 3.8.2 64-bit",
   "language": "python",
   "name": "python38264bitd1fec2ee1f234475aa681fe44be91992"
  },
  "language_info": {
   "codemirror_mode": {
    "name": "ipython",
    "version": 3
   },
   "file_extension": ".py",
   "mimetype": "text/x-python",
   "name": "python",
   "nbconvert_exporter": "python",
   "pygments_lexer": "ipython3",
   "version": "3.8.2"
  }
 },
 "nbformat": 4,
 "nbformat_minor": 4
}
