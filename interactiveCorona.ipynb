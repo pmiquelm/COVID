{
 "cells": [
  {
   "cell_type": "markdown",
   "metadata": {},
   "source": [
    "# Analyse CoViD-19 data"
   ]
  },
  {
   "cell_type": "markdown",
   "metadata": {},
   "source": [
    "Import necessary packages"
   ]
  },
  {
   "cell_type": "code",
   "execution_count": 34,
   "metadata": {},
   "outputs": [],
   "source": [
    "import pandas as pd\n",
    "import numpy as np\n",
    "import matplotlib.pyplot as plt  \n",
    "from adjustText import adjust_text\n",
    "import matplotlib.patheffects as pe\n",
    "import mplcursors\n",
    "from bqplot import *\n",
    "import bqplot.pyplot as bqplt\n",
    "from ipywidgets import Layout, Dropdown, Button\n",
    "from ipywidgets import Image as ImageIpy"
   ]
  },
  {
   "cell_type": "markdown",
   "metadata": {},
   "source": [
    "Define function that retrieves raw data from John Hopkins"
   ]
  },
  {
   "cell_type": "code",
   "execution_count": 35,
   "metadata": {},
   "outputs": [],
   "source": [
    "def getRawData(casesOrDeaths):\n",
    "# Get URLs for data\n",
    "    if casesOrDeaths.lower() ==  \"cases\":\n",
    "        dataFile = \"https://raw.githubusercontent.com/CSSEGISandData/COVID-19/master/csse_covid_19_data/csse_covid_19_time_series/time_series_covid19_confirmed_global.csv\"\n",
    "    else:\n",
    "        dataFile = \"https://raw.githubusercontent.com/CSSEGISandData/COVID-19/master/csse_covid_19_data/csse_covid_19_time_series/time_series_covid19_deaths_global.csv\"\n",
    "\n",
    "    # Get data and clean up\n",
    "    rawData = pd.read_csv(dataFile, index_col = 1).T\n",
    "    rawData.drop([\"Lat\", \"Long\",\"Province/State\"], inplace = True)\n",
    "    rawData.drop([\"Diamond Princess\"], axis = \"columns\", inplace = True)\n",
    "\n",
    "    # rawData.drop([\"Cruise Ship\", \"Saint Lucia\", \"Taiwan*\"], axis = \"columns\", inplace = True)\n",
    "    rawData.rename(columns={\"Iran\": \"Iran, Islamic Rep.\", \"Korea, South\" : \"Korea, Rep.\", \"US\" : \"United States\", \\\n",
    "                        \"Brunei\": \"Brunei Darussalam\", \"Czechia\": \"Czech Republic\", \"Egypt\" : \"Egypt, Arab Rep.\", \\\n",
    "                        \"Russia\" : \"Russian Federation\", \"Slovakia\" : \"Slovak Republic\", \"Congo (Kinshasa)\" : \"Congo, Dem. Rep.\", \\\n",
    "                        \"Guadeloupe\" : \"Mexico\", \"Jersey\" : \"United Kingdom\", \"Martinique\" : \"France\", \\\n",
    "                        \"Reunion\" : \"France\", \"Venezuela\" : \"Venezuela, RB\"}, inplace = True)\n",
    "    rawData = rawData.groupby(rawData.columns, axis=1).sum()\n",
    "    endDate = pd.to_datetime(rawData.index[-1]).strftime(\"%d %B, %Y\")\n",
    "    rawData.reset_index(inplace = True, drop=True)\n",
    "    return rawData"
   ]
  },
  {
   "cell_type": "markdown",
   "metadata": {},
   "source": [
    "Initialise global variables"
   ]
  },
  {
   "cell_type": "code",
   "execution_count": 36,
   "metadata": {},
   "outputs": [],
   "source": [
    "gAlign = 10\n",
    "gMinimum = 15\n",
    "gGradient = 'Cumulative'\n",
    "gRollingMean = 0\n",
    "gInterpolate = True\n",
    "gRawData = getRawData(\"deaths\")"
   ]
  },
  {
   "cell_type": "markdown",
   "metadata": {},
   "source": [
    "Define function that updates the plot, called by all the interavtive buttons"
   ]
  },
  {
   "cell_type": "code",
   "execution_count": 37,
   "metadata": {},
   "outputs": [],
   "source": [
    "def updatePlot(rawData, lineChart, align, minimum, gradient, rollingMean, interpolate):\n",
    "    data = manipulateData(rawData, align, minimum, gradient, rollingMean, interpolate)\n",
    "    lineChart.y = data\n",
    "    lineChart.labels = list(data.index.to_numpy())"
   ]
  },
  {
   "cell_type": "markdown",
   "metadata": {},
   "source": [
    "Define function that manipulates the data according to the input from the interactive buttons"
   ]
  },
  {
   "cell_type": "code",
   "execution_count": 46,
   "metadata": {},
   "outputs": [],
   "source": [
    "def manipulateData(rawData, align, minimum, gradient, rollingMean, interpolate):\n",
    "    \n",
    "    global gAlign\n",
    "    global gMinimum\n",
    "    global gGradient\n",
    "    global gRollingMean\n",
    "    global gInterpolate\n",
    "\n",
    "    gAlign = align\n",
    "    gMinimum = minimum\n",
    "    gGradient = gradient\n",
    "    gRollingMean = rollingMean\n",
    "    gInterpolate = interpolate\n",
    "    \n",
    "    data = rawData.where(rawData > align)\n",
    "    data = data.apply(lambda countryData: pd.Series(countryData.dropna().values))\n",
    "\n",
    "    # Drop countries without minimum data\n",
    "    data.dropna(axis = 'columns', thresh = minimum, inplace = True)\n",
    "\n",
    "    # Interpolate\n",
    "    if interpolate:\n",
    "        data.where(data.diff() != 0, inplace = True)\n",
    "        data.interpolate(method = \"linear\", limit = 2, limit_direction = \"backward\", inplace = True)\n",
    "\n",
    "    # Take gradients\n",
    "    if gradient == \"New cases/deaths\" or gradient == \"Derivative of new cases/deaths\":\n",
    "        data = data.diff()\n",
    "\n",
    "        # Rolling mean\n",
    "        if rollingMean:\n",
    "            data = data.rolling(rollingMean).mean()\n",
    "\n",
    "        if gradient == \"Derivative of new cases/deaths\":\n",
    "            data = data.diff()\n",
    "\n",
    "#     # Truncate\n",
    "#     data = data.truncate(after = cutoff)\n",
    "    return data.T\n",
    "# # Normalize\n",
    "# for individualNormalizeDict in normalizeDicts:\n",
    "#     data = data.apply(lambda countryData: countryData / individualNormalizeDict[countryData.name])\n"
   ]
  },
  {
   "cell_type": "markdown",
   "metadata": {},
   "source": [
    "Create a toggle widget to change between displaying deaths or cases"
   ]
  },
  {
   "cell_type": "code",
   "execution_count": 44,
   "metadata": {},
   "outputs": [],
   "source": [
    "toggleCasesOrDeaths = widgets.ToggleButtons(\n",
    "    options=['Deaths', 'Cases'],\n",
    "    value=\"Deaths\", \n",
    "#    layout={'width': 'max-content'}, # If the items' names are long\n",
    "    description='Data:',\n",
    "    disabled=False\n",
    ")"
   ]
  },
  {
   "cell_type": "markdown",
   "metadata": {},
   "source": [
    "Create a slider widget that can vary at what value the cases or deaths are aligned at"
   ]
  },
  {
   "cell_type": "code",
   "execution_count": 45,
   "metadata": {},
   "outputs": [],
   "source": [
    "sliderAlign = widgets.IntSlider(\n",
    "    value=gAlign,\n",
    "    min=1,\n",
    "    max=100,\n",
    "    step=1,\n",
    "    description='Align:',\n",
    "    disabled=False,\n",
    "    continuous_update=True,\n",
    "    orientation='horizontal',\n",
    "    readout=True,\n",
    "    readout_format='d'\n",
    ")"
   ]
  },
  {
   "cell_type": "markdown",
   "metadata": {},
   "source": [
    "Create a slider widget that can vary at what minimum amount of data points are needed for a country to be displayed"
   ]
  },
  {
   "cell_type": "code",
   "execution_count": 27,
   "metadata": {},
   "outputs": [],
   "source": [
    "sliderMinimum = widgets.IntSlider(\n",
    "    value=gMinimum,\n",
    "    min=1,\n",
    "    max=len(gRawData),\n",
    "    step=1,\n",
    "    description='Minimum:',\n",
    "    disabled=False,\n",
    "    continuous_update=True,\n",
    "    orientation='horizontal',\n",
    "    readout=True,\n",
    "    readout_format='d'\n",
    ")"
   ]
  },
  {
   "cell_type": "markdown",
   "metadata": {},
   "source": [
    "Create a toggle widget to change between displaying cumulative, new cases/deaths, or the derivative or new/cases/deaths"
   ]
  },
  {
   "cell_type": "code",
   "execution_count": 47,
   "metadata": {},
   "outputs": [],
   "source": [
    "toggleGradient = widgets.ToggleButtons(\n",
    "    options=['Cumulative', 'New cases/deaths', 'Derivative of new cases/deaths'],\n",
    "    value=gGradient, \n",
    "#    layout={'width': 'max-content'}, # If the items' names are long\n",
    "    description='Gradient:',\n",
    "    disabled=False\n",
    ")"
   ]
  },
  {
   "cell_type": "markdown",
   "metadata": {},
   "source": [
    "Create a slider widget that can vary the rolling mean of new cases/deaths"
   ]
  },
  {
   "cell_type": "code",
   "execution_count": 48,
   "metadata": {},
   "outputs": [],
   "source": [
    "sliderRollingMean = widgets.IntSlider(\n",
    "    value=gRollingMean,\n",
    "    min=0,\n",
    "    max=15,\n",
    "    step=1,\n",
    "    description='Rolling Mean:',\n",
    "    disabled=False,\n",
    "    continuous_update=True,\n",
    "    orientation='horizontal',\n",
    "    readout=True,\n",
    "    readout_format='d'\n",
    ")"
   ]
  },
  {
   "cell_type": "markdown",
   "metadata": {},
   "source": [
    "Create a toggle widget to enable or disable interpolation when data is missing"
   ]
  },
  {
   "cell_type": "code",
   "execution_count": 49,
   "metadata": {},
   "outputs": [],
   "source": [
    "toggleInterpolate = widgets.ToggleButton(\n",
    "    value=gInterpolate,\n",
    "    description='Interpolate',\n",
    "    disabled=False,\n",
    "    button_style='', # 'success', 'info', 'warning', 'danger' or ''\n",
    "    tooltip='Description',\n",
    "    icon='check' # (FontAwesome names without the `fa-` prefix)\n",
    ")"
   ]
  },
  {
   "cell_type": "markdown",
   "metadata": {},
   "source": [
    "Link the interactive buttons to the `updatePlot` function"
   ]
  },
  {
   "cell_type": "code",
   "execution_count": 50,
   "metadata": {},
   "outputs": [],
   "source": [
    "toggleCasesOrDeaths.observe(lambda change : updatePlot(getRawData(change.new), lineChart, gAlign, gMinimum, gGradient, gRollingMean, gInterpolate), 'value')\n",
    "sliderAlign.observe(lambda change : updatePlot(gRawData, lineChart, change.new, gMinimum, gGradient, gRollingMean, gInterpolate), 'value')\n",
    "sliderMinimum.observe(lambda change : updatePlot(gRawData, lineChart, gAlign, change.new, gGradient, gRollingMean, gInterpolate), 'value')\n",
    "toggleGradient.observe(lambda change : updatePlot(gRawData, lineChart, gAlign, gMinimum, change.new, gRollingMean, gInterpolate), 'value')\n",
    "sliderRollingMean.observe(lambda change : updatePlot(gRawData, lineChart, gAlign, gMinimum, gGradient, change.new, gInterpolate), 'value')\n",
    "toggleInterpolate.observe(lambda change : updatePlot(rawgRawDataData, lineChart, gAlign, gMinimum, gGradient, gRollingMean, change.new), 'value')"
   ]
  },
  {
   "cell_type": "markdown",
   "metadata": {},
   "source": [
    "Create a line chart with the initialised data"
   ]
  },
  {
   "cell_type": "code",
   "execution_count": 62,
   "metadata": {},
   "outputs": [],
   "source": [
    "xData = gRawData.index.to_numpy()\n",
    "yData = manipulateData(gRawData, gAlign, gMinimum, gGradient, gRollingMean, gInterpolate)\n",
    "\n",
    "fig = bqplt.figure(animation_duration=500, legend_location = 'top-left')\n",
    "lineChart = bqplt.plot(x=xData, y=yData, display_legend = True, labels = list(yData.index.to_numpy()), marker_str = 'sr')"
   ]
  },
  {
   "cell_type": "markdown",
   "metadata": {},
   "source": [
    "Stack the widgets and fig and display"
   ]
  },
  {
   "cell_type": "code",
   "execution_count": 65,
   "metadata": {},
   "outputs": [
    {
     "data": {
      "application/vnd.jupyter.widget-view+json": {
       "model_id": "802219ccb8874b91a0987fa823443867",
       "version_major": 2,
       "version_minor": 0
      },
      "text/plain": [
       "VBox(children=(HBox(children=(IntSlider(value=100, continuous_update=False, description='Align:', min=1), Togg…"
      ]
     },
     "metadata": {},
     "output_type": "display_data"
    }
   ],
   "source": [
    "widgets.VBox([widgets.HBox([sliderAlign, toggleGradient ]), widgets.HBox([sliderMinimum, sliderRollingMean, toggleInterpolate]), toggleCasesOrDeaths, fig])"
   ]
  }
 ],
 "metadata": {
  "anaconda-cloud": {},
  "kernelspec": {
   "display_name": "Python 3",
   "language": "python",
   "name": "python3"
  },
  "language_info": {
   "codemirror_mode": {
    "name": "ipython",
    "version": 3
   },
   "file_extension": ".py",
   "mimetype": "text/x-python",
   "name": "python",
   "nbconvert_exporter": "python",
   "pygments_lexer": "ipython3",
   "version": "3.8.2"
  }
 },
 "nbformat": 4,
 "nbformat_minor": 4
}
