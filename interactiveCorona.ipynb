{
 "cells": [
  {
   "cell_type": "markdown",
   "metadata": {},
   "source": [
    "# Analyse CoViD-19 data"
   ]
  },
  {
   "cell_type": "code",
   "execution_count": 57,
   "metadata": {},
   "outputs": [],
   "source": [
    "import pandas as pd\n",
    "import numpy as np\n",
    "from bqplot import *\n",
    "import bqplot.pyplot as bqplt\n",
    "from ipywidgets import Layout, Dropdown, Button\n",
    "from ipywidgets import Image as ImageIpy\n",
    "import matplotlib.colors as colors"
   ]
  },
  {
   "cell_type": "code",
   "execution_count": 58,
   "metadata": {},
   "outputs": [],
   "source": [
    "shit =[[1,2,],[1,1] ]"
   ]
  },
  {
   "cell_type": "code",
   "execution_count": 59,
   "metadata": {},
   "outputs": [],
   "source": [
    "colorListRGB =[ \n",
    "[                   0,                   0,   1.000000000000000],\n",
    "[   1.000000000000000,                   0,                   0],\n",
    "[                   0,   1.000000000000000,                   0],\n",
    "[                   0,                   0,   0.172413793103448],\n",
    "[   1.000000000000000,   0.103448275862069,   0.724137931034483],\n",
    "[   1.000000000000000,   0.827586206896552,                   0],\n",
    "[                   0,   0.344827586206897,                   0],\n",
    "[   0.517241379310345,   0.517241379310345,   1.000000000000000],\n",
    "[   0.620689655172414,   0.310344827586207,   0.275862068965517],\n",
    "[                   0,   1.000000000000000,   0.758620689655172],\n",
    "[                   0,   0.517241379310345,   0.586206896551724],\n",
    "[                   0,                   0,   0.482758620689655],\n",
    "[   0.586206896551724,   0.827586206896552,   0.310344827586207],\n",
    "[   0.965517241379310,   0.620689655172414,   0.862068965517241],\n",
    "[   0.827586206896552,   0.068965517241379,   1.000000000000000],\n",
    "[   0.482758620689655,   0.103448275862069,   0.413793103448276],\n",
    "[   0.965517241379310,   0.068965517241379,   0.379310344827586],\n",
    "[   1.000000000000000,   0.758620689655172,   0.517241379310345],\n",
    "[   0.137931034482759,   0.137931034482759,   0.034482758620690],\n",
    "[   0.551724137931034,   0.655172413793103,   0.482758620689655],\n",
    "[   0.965517241379310,   0.517241379310345,   0.034482758620690],\n",
    "[   0.517241379310345,   0.448275862068966,                   0],\n",
    "[   0.448275862068966,   0.965517241379310,   1.000000000000000],\n",
    "[   0.620689655172414,   0.758620689655172,   1.000000000000000],\n",
    "[   0.448275862068966,   0.379310344827586,   0.482758620689655]\n",
    "]"
   ]
  },
  {
   "cell_type": "code",
   "execution_count": 64,
   "metadata": {},
   "outputs": [],
   "source": [
    "colorListHTML = []\n",
    "for color in colorListRGB:\n",
    "    colorListHTML.append(colors.to_hex(color))"
   ]
  },
  {
   "cell_type": "code",
   "execution_count": 24,
   "metadata": {},
   "outputs": [],
   "source": [
    "def getRawData(casesOrDeaths):\n",
    "# Get URLs for data\n",
    "    if casesOrDeaths.lower() ==  \"cases\":\n",
    "        dataFile = \"https://raw.githubusercontent.com/CSSEGISandData/COVID-19/master/csse_covid_19_data/csse_covid_19_time_series/time_series_covid19_confirmed_global.csv\"\n",
    "    else:\n",
    "        dataFile = \"https://raw.githubusercontent.com/CSSEGISandData/COVID-19/master/csse_covid_19_data/csse_covid_19_time_series/time_series_covid19_deaths_global.csv\"\n",
    "\n",
    "    # Get data and clean up\n",
    "    rawData = pd.read_csv(dataFile, index_col = 1).T\n",
    "    rawData.drop([\"Lat\", \"Long\",\"Province/State\"], inplace = True)\n",
    "    rawData.drop([\"Diamond Princess\"], axis = \"columns\", inplace = True)\n",
    "\n",
    "    # rawData.drop([\"Cruise Ship\", \"Saint Lucia\", \"Taiwan*\"], axis = \"columns\", inplace = True)\n",
    "    rawData.rename(columns={\"Iran\": \"Iran, Islamic Rep.\", \"Korea, South\" : \"Korea, Rep.\", \"US\" : \"United States\", \\\n",
    "                        \"Brunei\": \"Brunei Darussalam\", \"Czechia\": \"Czech Republic\", \"Egypt\" : \"Egypt, Arab Rep.\", \\\n",
    "                        \"Russia\" : \"Russian Federation\", \"Slovakia\" : \"Slovak Republic\", \"Congo (Kinshasa)\" : \"Congo, Dem. Rep.\", \\\n",
    "                        \"Guadeloupe\" : \"Mexico\", \"Jersey\" : \"United Kingdom\", \"Martinique\" : \"France\", \\\n",
    "                        \"Reunion\" : \"France\", \"Venezuela\" : \"Venezuela, RB\"}, inplace = True)\n",
    "    rawData = rawData.groupby(rawData.columns, axis=1).sum()\n",
    "    endDate = pd.to_datetime(rawData.index[-1]).strftime(\"%d %B, %Y\")\n",
    "    rawData.reset_index(inplace = True, drop=True)\n",
    "    return rawData"
   ]
  },
  {
   "cell_type": "code",
   "execution_count": 38,
   "metadata": {},
   "outputs": [],
   "source": [
    "gAlign = 10\n",
    "gMinimum = 15\n",
    "gGradient = 'Cumulative'\n",
    "gRollingMean = 0\n",
    "gInterpolate = True\n",
    "gRawData = getRawData(\"deaths\")"
   ]
  },
  {
   "cell_type": "code",
   "execution_count": 39,
   "metadata": {},
   "outputs": [],
   "source": [
    "def updatePlot(rawData, lineChart, align, minimum, gradient, rollingMean, interpolate):\n",
    "    data = manipulateData(rawData, align, minimum, gradient, rollingMean, interpolate)\n",
    "    lineChart.y = data\n",
    "    lineChart.labels = list(data.index.to_numpy())"
   ]
  },
  {
   "cell_type": "code",
   "execution_count": 40,
   "metadata": {},
   "outputs": [],
   "source": [
    "def manipulateData(rawData, align, minimum, gradient, rollingMean, interpolate):\n",
    "    \n",
    "    global gAlign\n",
    "    global gMinimum\n",
    "    global gGradient\n",
    "    global gRollingMean\n",
    "    global gInterpolate\n",
    "\n",
    "    gAlign = align\n",
    "    gMinimum = minimum\n",
    "    gGradient = gradient\n",
    "    gRollingMean = rollingMean\n",
    "    gInterpolate = interpolate\n",
    "    \n",
    "    data = rawData.where(rawData > align)\n",
    "    data = data.apply(lambda countryData: pd.Series(countryData.dropna().values))\n",
    "\n",
    "    # Drop countries without minimum data\n",
    "    data.dropna(axis = 'columns', thresh = minimum, inplace = True)\n",
    "\n",
    "    # Interpolate\n",
    "    if interpolate:\n",
    "        data.where(data.diff() != 0, inplace = True)\n",
    "        data.interpolate(method = \"linear\", limit = 2, limit_direction = \"backward\", inplace = True)\n",
    "\n",
    "    # Take gradients\n",
    "    if gradient == \"New cases/deaths\" or gradient == \"Derivative of new cases/deaths\":\n",
    "        data = data.diff()\n",
    "\n",
    "        # Rolling mean\n",
    "        if rollingMean:\n",
    "            data = data.rolling(rollingMean).mean()\n",
    "\n",
    "        if gradient == \"Derivative of new cases/deaths\":\n",
    "            data = data.diff()\n",
    "\n",
    "#     # Truncate\n",
    "#     data = data.truncate(after = cutoff)\n",
    "    return data.T\n",
    "# # Normalize\n",
    "# for individualNormalizeDict in normalizeDicts:\n",
    "#     data = data.apply(lambda countryData: countryData / individualNormalizeDict[countryData.name])\n"
   ]
  },
  {
   "cell_type": "code",
   "execution_count": 41,
   "metadata": {},
   "outputs": [],
   "source": [
    "toggleCasesOrDeaths = widgets.ToggleButtons(\n",
    "    options=['Deaths', 'Cases'],\n",
    "    value=\"Deaths\", \n",
    "#    layout={'width': 'max-content'}, # If the items' names are long\n",
    "    description='Data:',\n",
    "    disabled=False\n",
    ")"
   ]
  },
  {
   "cell_type": "code",
   "execution_count": 42,
   "metadata": {},
   "outputs": [],
   "source": [
    "sliderAlign = widgets.IntSlider(\n",
    "    value=gAlign,\n",
    "    min=1,\n",
    "    max=100,\n",
    "    step=1,\n",
    "    description='Align:',\n",
    "    disabled=False,\n",
    "    continuous_update=True,\n",
    "    orientation='horizontal',\n",
    "    readout=True,\n",
    "    readout_format='d'\n",
    ")"
   ]
  },
  {
   "cell_type": "code",
   "execution_count": 43,
   "metadata": {},
   "outputs": [],
   "source": [
    "sliderMinimum = widgets.IntSlider(\n",
    "    value=gMinimum,\n",
    "    min=1,\n",
    "    max=len(gRawData),\n",
    "    step=1,\n",
    "    description='Minimum:',\n",
    "    disabled=False,\n",
    "    continuous_update=True,\n",
    "    orientation='horizontal',\n",
    "    readout=True,\n",
    "    readout_format='d'\n",
    ")"
   ]
  },
  {
   "cell_type": "code",
   "execution_count": 44,
   "metadata": {},
   "outputs": [],
   "source": [
    "toggleGradient = widgets.ToggleButtons(\n",
    "    options=['Cumulative', 'New cases/deaths', 'Derivative of new cases/deaths'],\n",
    "    value=gGradient, \n",
    "#    layout={'width': 'max-content'}, # If the items' names are long\n",
    "    description='Gradient:',\n",
    "    disabled=False\n",
    ")"
   ]
  },
  {
   "cell_type": "code",
   "execution_count": 45,
   "metadata": {},
   "outputs": [],
   "source": [
    "sliderRollingMean = widgets.IntSlider(\n",
    "    value=gRollingMean,\n",
    "    min=0,\n",
    "    max=15,\n",
    "    step=1,\n",
    "    description='Rolling Mean:',\n",
    "    disabled=False,\n",
    "    continuous_update=True,\n",
    "    orientation='horizontal',\n",
    "    readout=True,\n",
    "    readout_format='d'\n",
    ")"
   ]
  },
  {
   "cell_type": "code",
   "execution_count": 46,
   "metadata": {},
   "outputs": [],
   "source": [
    "toggleInterpolate = widgets.ToggleButton(\n",
    "    value=gInterpolate,\n",
    "    description='Interpolate',\n",
    "    disabled=False,\n",
    "    button_style='', # 'success', 'info', 'warning', 'danger' or ''\n",
    "    tooltip='Description',\n",
    "    icon='check' # (FontAwesome names without the `fa-` prefix)\n",
    ")"
   ]
  },
  {
   "cell_type": "code",
   "execution_count": 47,
   "metadata": {},
   "outputs": [],
   "source": [
    "toggleCasesOrDeaths.observe(lambda change : updatePlot(getRawData(change.new), lineChart, gAlign, gMinimum, gGradient, gRollingMean, gInterpolate), 'value')\n",
    "sliderAlign.observe(lambda change : updatePlot(gRawData, lineChart, change.new, gMinimum, gGradient, gRollingMean, gInterpolate), 'value')\n",
    "sliderMinimum.observe(lambda change : updatePlot(gRawData, lineChart, gAlign, change.new, gGradient, gRollingMean, gInterpolate), 'value')\n",
    "toggleGradient.observe(lambda change : updatePlot(gRawData, lineChart, gAlign, gMinimum, change.new, gRollingMean, gInterpolate), 'value')\n",
    "sliderRollingMean.observe(lambda change : updatePlot(gRawData, lineChart, gAlign, gMinimum, gGradient, change.new, gInterpolate), 'value')\n",
    "toggleInterpolate.observe(lambda change : updatePlot(gRawData, lineChart, gAlign, gMinimum, gGradient, gRollingMean, change.new), 'value')"
   ]
  },
  {
   "cell_type": "code",
   "execution_count": 65,
   "metadata": {},
   "outputs": [],
   "source": [
    "xData = gRawData.index.to_numpy()\n",
    "yData = manipulateData(gRawData, gAlign, gMinimum, gGradient, gRollingMean, gInterpolate)\n",
    "\n",
    "fig = bqplt.figure(animation_duration=500, legend_location = 'top-left')\n",
    "lineChart = bqplt.plot(x=xData, y=yData, display_legend = True, labels = list(yData.index.to_numpy()), marker_str = 'sr', colors=colorListHTML)"
   ]
  },
  {
   "cell_type": "code",
   "execution_count": 66,
   "metadata": {},
   "outputs": [],
   "source": [
    "sliderRollingMean.disabled = False"
   ]
  },
  {
   "cell_type": "code",
   "execution_count": 67,
   "metadata": {},
   "outputs": [
    {
     "data": {
      "application/vnd.jupyter.widget-view+json": {
       "model_id": "4915354495644fa39518980fc93d72cc",
       "version_major": 2,
       "version_minor": 0
      },
      "text/plain": [
       "VBox(children=(HBox(children=(IntSlider(value=10, description='Align:', min=1), ToggleButtons(description='Gra…"
      ]
     },
     "metadata": {},
     "output_type": "display_data"
    }
   ],
   "source": [
    "widgets.VBox([widgets.HBox([sliderAlign, toggleGradient ]), widgets.HBox([sliderMinimum, sliderRollingMean, toggleInterpolate]), toggleCasesOrDeaths, fig])"
   ]
  },
  {
   "cell_type": "markdown",
   "metadata": {},
   "source": [
    "## To do:\n",
    "- LineStyles\n",
    "- Switch to OO method\n",
    "- Posibility of log Y\n",
    "- Normalise dicts\n",
    "- Remove legend border\n",
    "- Disable impossible combinations of toggles"
   ]
  },
  {
   "cell_type": "code",
   "execution_count": null,
   "metadata": {},
   "outputs": [],
   "source": []
  }
 ],
 "metadata": {
  "anaconda-cloud": {},
  "kernelspec": {
   "display_name": "Python 3",
   "language": "python",
   "name": "python3"
  },
  "language_info": {
   "codemirror_mode": {
    "name": "ipython",
    "version": 3
   },
   "file_extension": ".py",
   "mimetype": "text/x-python",
   "name": "python",
   "nbconvert_exporter": "python",
   "pygments_lexer": "ipython3",
   "version": "3.8.2"
  }
 },
 "nbformat": 4,
 "nbformat_minor": 4
}
